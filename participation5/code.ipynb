{
 "cells": [
  {
   "cell_type": "markdown",
   "metadata": {},
   "source": [
    "Regarding graph transformers:\n",
    "\n",
    "Explain how the principles of NLP transformers have been adapted to the graph domain.\n",
    "\n",
    "Explain the two kinds of positional encodings used in graph transformers."
   ]
  }
 ],
 "metadata": {
  "language_info": {
   "name": "python"
  }
 },
 "nbformat": 4,
 "nbformat_minor": 2
}
